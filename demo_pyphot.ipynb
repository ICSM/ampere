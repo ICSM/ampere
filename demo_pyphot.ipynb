{
 "cells": [
  {
   "cell_type": "markdown",
   "metadata": {},
   "source": [
    "# pyphot demonstration"
   ]
  },
  {
   "cell_type": "code",
   "execution_count": 1,
   "metadata": {
    "collapsed": false
   },
   "outputs": [],
   "source": [
    "\"\"\"Load necessary packages\"\"\"\n",
    "import pyphot #synthetic photometry\n",
    "from astropy.table import Table #synthetic photometry\n",
    "import numpy as np #input/output\n",
    "from astropy.io import fits #input/output\n",
    "from matplotlib import pyplot as plt #visualisation\n",
    "pkgdir = '/usr/local/lib/python2.7/site-packages/pyphot/' #Edit this depending on user\n",
    "libsdir = '/usr/local/lib/python2.7/site-packages/pyphot/libs/' #Edit this depending on user\n",
    "demodir = '/Users/sundar/work/pyphot/pyphot/demo/' #Edit this depending on user"
   ]
  },
  {
   "cell_type": "markdown",
   "metadata": {},
   "source": [
    "### pyphot defines two classes: Filter and Library. Each instance of the Filter class contains transmission information for one filter, and each instance of the Library class consists of a collection of Filter classes."
   ]
  },
  {
   "cell_type": "markdown",
   "metadata": {},
   "source": [
    "### Libraries are stored in the form of HDF5 files."
   ]
  },
  {
   "cell_type": "markdown",
   "metadata": {},
   "source": [
    "#### Load/view information from a library"
   ]
  },
  {
   "cell_type": "code",
   "execution_count": 2,
   "metadata": {
    "collapsed": false
   },
   "outputs": [],
   "source": [
    "\"\"\"Load entire HDF5 library\"\"\"\n",
    "libraryName=pkgdir+'libs/synphot_PhIReSSTARTer.hd5'\n",
    "filterLibrary = pyphot.get_library(fname=libraryName)"
   ]
  },
  {
   "cell_type": "code",
   "execution_count": 4,
   "metadata": {
    "collapsed": false
   },
   "outputs": [
    {
     "name": "stdout",
     "output_type": "stream",
     "text": [
      "HST_WFPC2_F791W\n",
      "HST_WFC3_F621M\n",
      "HST_WFC3_F125W\n",
      "ans_3300\n",
      "steward_h\n",
      "HST_ACS_WFC_F606W\n",
      "steward_j\n",
      "steward_k\n",
      "HST_WFC3_F680N\n"
     ]
    }
   ],
   "source": [
    "\"\"\"Names of the first ten filters available in the library\"\"\"\n",
    "filterNames = filterLibrary.get_library_content()\n",
    "for i in range(9):\n",
    "    print filterNames[i]"
   ]
  },
  {
   "cell_type": "markdown",
   "metadata": {},
   "source": [
    "#### Load/view information for a (set of) filter(s)"
   ]
  },
  {
   "cell_type": "code",
   "execution_count": 5,
   "metadata": {
    "collapsed": true
   },
   "outputs": [],
   "source": [
    "\"\"\"Load information for a single filter\"\"\"\n",
    "ans_3300 = filterLibrary.load_filters(['ans_3300']) #result is a list, even for a single filter!\n",
    "\"\"\"Load information for a list of filters\"\"\"\n",
    "filters = filterLibrary.load_filters(['ans_3300', 'steward_k'])"
   ]
  },
  {
   "cell_type": "code",
   "execution_count": 9,
   "metadata": {
    "collapsed": false
   },
   "outputs": [
    {
     "name": "stdout",
     "output_type": "stream",
     "text": [
      "Filter object information:\n",
      "    name:                 steward_k\n",
      "    detector type:        photon\n",
      "    wavelength units:     AA\n",
      "    central wavelength:   22050.156396 angstrom\n",
      "    pivot wavelength:     22016.186105 angstrom\n",
      "    effective wavelength: 21795.771911 angstrom\n",
      "    norm:                 3644.600000\n",
      "    definition contains 50 points\n",
      "\n",
      "    Zeropoints\n",
      "        Vega: 25.985021 mag,\n",
      "              4.03637718344e-11 erg / angstrom * centimeter ** 2 * second,\n",
      "              639.610446848 Jy\n",
      "          AB: 24.121659 mag,\n",
      "              2.24562134423e-10 erg / angstrom * centimeter ** 2 * second,\n",
      "              3558.4456213 Jy\n",
      "          ST: 21.100000 mag,\n",
      "              3.6307805477e-09 erg / angstrom * centimeter ** 2 * second,\n",
      "              57533.8989144 Jy\n",
      "        \n"
     ]
    }
   ],
   "source": [
    "\"\"\"View filter information\"\"\"\n",
    "filters[1].info()"
   ]
  },
  {
   "cell_type": "markdown",
   "metadata": {},
   "source": [
    "#### The raw information required to define a filter is the wavelength (WITH UNITS!), transmission, and the detector type (i.e., whether it is a \"photon\" or \"energy\" counter). All the other infomation above is automatically computed for each filter."
   ]
  },
  {
   "cell_type": "markdown",
   "metadata": {},
   "source": [
    "### Users can define their own filters using the Filter class, and use them either temporarily or store them permanently in a Library class."
   ]
  },
  {
   "cell_type": "markdown",
   "metadata": {},
   "source": [
    "# Computing synthetic photometry using pyphot"
   ]
  },
  {
   "cell_type": "code",
   "execution_count": 10,
   "metadata": {
    "collapsed": false
   },
   "outputs": [],
   "source": [
    "\"\"\"We will use the same set of filters for both examples below\"\"\"\n",
    "filterNames = ['MCPS_U', 'MCPS_B', 'MCPS_U', 'MCPS_I', '2MASS_J', '2MASS_H', '2MASS_Ks',\n",
    "                   'SPITZER_IRAC_36', 'SPITZER_IRAC_45', 'SPITZER_IRAC_58', 'SPITZER_IRAC_80',\n",
    "                   'SPITZER_MIPS_24']\n",
    "libraryName = libsdir+'synphot_PhIReSSTARTer.hd5'\n",
    "filterLibrary = pyphot.get_library(fname=libraryName)"
   ]
  },
  {
   "cell_type": "markdown",
   "metadata": {},
   "source": [
    "### Example 1: computing synthetic photometry for a single spectrum (Source: IRC+10216, instrument: ISO-SWS).\n",
    "#### (Uses the extractPhotometry method available in helpers.py)"
   ]
  },
  {
   "cell_type": "code",
   "execution_count": 11,
   "metadata": {
    "collapsed": false
   },
   "outputs": [],
   "source": [
    "#Input spectrum\n",
    "spec = np.loadtxt(demodir+'IRC+10216_ISO_SWS.dat', comments='#', usecols=(0,1))\n",
    "#Retrieve filter responses interpolated over input wavelength grid\n",
    "filterList = filterLibrary.load_filters(filterNames, interp=True, lamb=spec[:,0]*pyphot.unit['micron'])"
   ]
  },
  {
   "cell_type": "code",
   "execution_count": 12,
   "metadata": {
    "collapsed": false
   },
   "outputs": [
    {
     "name": "stdout",
     "output_type": "stream",
     "text": [
      "Photometry:|##########| 12/12 100% [time: 00:00, eta: 00:00, 3108.62 iters/sec]\n"
     ]
    }
   ],
   "source": [
    "#Upon execution, cls contains the central wavelengths for each filter, and sed the\n",
    "#   synthetic photometry in that filter.\n",
    "cls, sed = pyphot.extractPhotometry(spec[:,0], spec[:,1], filterList, Fnu=True, absFlux=False)\n",
    "lamCen = np.array([a.magnitude for a in cls])"
   ]
  },
  {
   "cell_type": "code",
   "execution_count": 13,
   "metadata": {
    "collapsed": false
   },
   "outputs": [],
   "source": [
    "#Plot results\n",
    "fig = plt.figure()\n",
    "ax = fig.add_subplot(111)\n",
    "ax.plot(spec[:,0], spec[:,1], '--', label='ISO SWS spectrum')\n",
    "ax.plot(lamCen, sed, 'o', color='red', label='Synthetic photometry')\n",
    "ax.set_xlabel('Wavelength (micron)')\n",
    "ax.set_ylabel('Flux (Jy)', rotation=90.)\n",
    "for i in range(len(filterNames)):\n",
    "    ax.text(lamCen[i], sed[i]*1.2, filterNames[i], horizontalalignment='center', verticalalignment='bottom', fontsize=8, rotation=90.)\n",
    "\n",
    "plt.title('Example 1: IRC+10216')\n",
    "plt.show()\n"
   ]
  },
  {
   "cell_type": "markdown",
   "metadata": {
    "collapsed": true
   },
   "source": [
    "### Example 2: computing synthetic photometry for the entire GRAMS carbon-star grid.\n",
    "#### (Users the GRAMS carbon-star grid FITS file, grams_c.fits.)"
   ]
  },
  {
   "cell_type": "code",
   "execution_count": 22,
   "metadata": {
    "collapsed": false
   },
   "outputs": [],
   "source": [
    "\"\"\"Read in the GRAMS C-star grid\"\"\"\n",
    "\"\"\"IGNORE WARNINGS\"\"\"\n",
    "hdulist = fits.open(demodir+'grams_c.fits')\n",
    "cg = hdulist[1].data\n",
    "hdulist.close()\n",
    "inlam = cg['LSPEC'][0] #input wavelength in micron\n",
    "infnu = cg['FSPEC'] #input flux grid in Jy\n",
    "#Retrieve filter responses interpolated over input wavelength grid\n",
    "filterList = filterLibrary.load_filters(filterNames, interp=True, lamb=inlam*pyphot.unit['micron'])"
   ]
  },
  {
   "cell_type": "code",
   "execution_count": 23,
   "metadata": {
    "collapsed": false
   },
   "outputs": [
    {
     "name": "stdout",
     "output_type": "stream",
     "text": [
      "Photometry:|##########| 12/12 100% [time: 00:00, eta: 00:00, 248.45 iters/sec] \n"
     ]
    }
   ],
   "source": [
    "#Upon execution, cls contains the central wavelengths for each filter, and seds the\n",
    "#   synthetic photometry for each input spectrum in that filter.\n",
    "cls, seds = pyphot.extractSEDs(inlam, infnu, filterList, Fnu=True, absFlux=False)\n",
    "lamCen = np.array([a.magnitude for a in cls])"
   ]
  },
  {
   "cell_type": "code",
   "execution_count": 24,
   "metadata": {
    "collapsed": false
   },
   "outputs": [],
   "source": [
    "#Plot results\n",
    "f, axarr = plt.subplots(2, 2)\n",
    "specnum = [0, 99, 10345, 3000]\n",
    "ct=0\n",
    "for i in range(2):\n",
    "    for j in range(2):\n",
    "        axarr[i,j].plot(inlam, infnu[specnum[ct],:], '--', label='GRAMS model spectrum #'+str(specnum[ct]+1))\n",
    "        axarr[i,j].plot(lamCen, seds[specnum[ct],:], 'o', color='red', label='Synthetic photometry')\n",
    "        if i==1:\n",
    "            axarr[i,j].set_xlabel('Wavelength (micron)')\n",
    "        if j==0:\n",
    "            axarr[i,j].set_ylabel('Flux (Jy)', rotation=90.)\n",
    "        #for k in range(len(filterNames)):\n",
    "        #    axarr[i,j].text(lamCen[k], seds[specnum[i+j],k]/40, filterNames[k], \n",
    "        #            horizontalalignment='left', verticalalignment='bottom', \n",
    "        #                    fontsize=8, rotation=90.)\n",
    "        axarr[i,j].set_xscale('log')\n",
    "        axarr[i,j].set_yscale('log')\n",
    "        axarr[i,j].set_title('Model spectrum #'+str(specnum[ct]+1), fontsize=10)\n",
    "        ct = ct + 1\n",
    "plt.setp([a.get_xticklabels() for a in axarr[0,:]], visible=False)\n",
    "#plt.setp([a.get_yticklabels() for a in axarr[:,1]], visible=False)\n",
    "plt.suptitle('Example 2: the GRAMS carbon-star grid', fontsize=12)\n",
    "plt.show()"
   ]
  },
  {
   "cell_type": "code",
   "execution_count": null,
   "metadata": {
    "collapsed": true
   },
   "outputs": [],
   "source": []
  }
 ],
 "metadata": {
  "kernelspec": {
   "display_name": "Python 2",
   "language": "python",
   "name": "python2"
  },
  "language_info": {
   "codemirror_mode": {
    "name": "ipython",
    "version": 2
   },
   "file_extension": ".py",
   "mimetype": "text/x-python",
   "name": "python",
   "nbconvert_exporter": "python",
   "pygments_lexer": "ipython2",
   "version": "2.7.14"
  }
 },
 "nbformat": 4,
 "nbformat_minor": 2
}
